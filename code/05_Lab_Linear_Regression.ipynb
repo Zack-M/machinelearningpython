{
 "cells": [
  {
   "cell_type": "code",
   "execution_count": 1,
   "metadata": {
    "collapsed": true
   },
   "outputs": [],
   "source": [
    "import pandas as pd\n",
    "import numpy as np\n",
    "from sklearn.linear_model import LinearRegression\n",
    "from sklearn.model_selection import train_test_split\n",
    "from sklearn import metrics\n",
    "\n",
    "# visualization\n",
    "import seaborn as sns\n",
    "import matplotlib.pyplot as plt\n",
    "%matplotlib inline"
   ]
  },
  {
   "cell_type": "markdown",
   "metadata": {},
   "source": [
    "For today's lab, we will explore a real world dataset - Singapore HDB resale prices and see if we can build a linear regression model that is able to predict a flat's resale price. Remember to look through the data dictionary to understand the data attributes https://data.gov.sg/dataset/resale-flat-prices"
   ]
  },
  {
   "cell_type": "code",
   "execution_count": 2,
   "metadata": {
    "collapsed": true
   },
   "outputs": [],
   "source": [
    "hdb = pd.read_csv('data/hdb/resale-flat-prices-based-on-registration-date-from-jan-2015-onwards.csv')"
   ]
  },
  {
   "cell_type": "markdown",
   "metadata": {},
   "source": [
    "### 1. How many rows and columns does the dataset have?"
   ]
  },
  {
   "cell_type": "code",
   "execution_count": 3,
   "metadata": {},
   "outputs": [],
   "source": [
    "# TODO"
   ]
  },
  {
   "cell_type": "markdown",
   "metadata": {},
   "source": [
    "### 2. What is the outcome / dependent variable we are trying to predict?"
   ]
  },
  {
   "cell_type": "code",
   "execution_count": 4,
   "metadata": {},
   "outputs": [],
   "source": [
    "# TODO"
   ]
  },
  {
   "cell_type": "markdown",
   "metadata": {},
   "source": [
    "#### Resale price"
   ]
  },
  {
   "cell_type": "markdown",
   "metadata": {},
   "source": [
    "#### We will apply some basic transformations to create additional columns which will be useful for our model \n",
    "\n",
    "- **apply**: applies a function on the dataframe\n",
    "- **lambda**: python anonymous function syntax, alternative to defining and creating a function separately"
   ]
  },
  {
   "cell_type": "code",
   "execution_count": null,
   "metadata": {
    "collapsed": true
   },
   "outputs": [],
   "source": [
    "hdb = hdb.rename(columns={'month': 'year-month'})\n",
    "hdb['year'] = hdb['year-month'].apply(lambda x: int(x.split(\"-\")[0]))\n",
    "hdb['month'] = hdb['year-month'].apply(lambda x: int(x.split(\"-\")[1]))\n",
    "hdb['lower_storey_bound'] = hdb['storey_range'].apply(lambda x: int(x.split()[0]))\n",
    "hdb['upper_storey_bound'] = hdb['storey_range'].apply(lambda x: int(x.split()[2]))"
   ]
  },
  {
   "cell_type": "code",
   "execution_count": null,
   "metadata": {},
   "outputs": [],
   "source": [
    "hdb.head()"
   ]
  },
  {
   "cell_type": "markdown",
   "metadata": {},
   "source": [
    "### 3. Plot the distribution of resale prices using the distplot function from the seaborn (sns) library"
   ]
  },
  {
   "cell_type": "code",
   "execution_count": null,
   "metadata": {},
   "outputs": [],
   "source": [
    "# TODO"
   ]
  },
  {
   "cell_type": "markdown",
   "metadata": {},
   "source": [
    "### 4. Use the describe function to obtain descriptive statistics about resale price i.e. mean, 50th percentile"
   ]
  },
  {
   "cell_type": "code",
   "execution_count": null,
   "metadata": {},
   "outputs": [],
   "source": [
    "# TODO"
   ]
  },
  {
   "cell_type": "markdown",
   "metadata": {},
   "source": [
    "### 5. Create a scatter plot of resale_price and floor_area_sqm using the pairplot function from Seaborn and include a regression line"
   ]
  },
  {
   "cell_type": "code",
   "execution_count": null,
   "metadata": {},
   "outputs": [],
   "source": [
    "# TODO"
   ]
  },
  {
   "cell_type": "markdown",
   "metadata": {},
   "source": [
    "There looks to be a strong linear correlation between floor_area_sqm and resale_price"
   ]
  },
  {
   "cell_type": "markdown",
   "metadata": {},
   "source": [
    "### 6. Using Scikit Learn create a Linear Regression Model to predict resale_price based on floor_area_sqm. What are the coefficients of the model?"
   ]
  },
  {
   "cell_type": "code",
   "execution_count": null,
   "metadata": {},
   "outputs": [],
   "source": [
    "# TODO"
   ]
  },
  {
   "cell_type": "markdown",
   "metadata": {},
   "source": [
    "### 7. Let's include a more quantitative variables into the model. Compute the correlations between floor_area_sqm, lower_storey_bound, upper_storey_bound, remaining_lease, and resale_price "
   ]
  },
  {
   "cell_type": "code",
   "execution_count": null,
   "metadata": {},
   "outputs": [],
   "source": [
    "# TODO"
   ]
  },
  {
   "cell_type": "markdown",
   "metadata": {},
   "source": [
    "### 8. Using the heatmap function from the Seaborn library, display the correlation matrix as a heatmap "
   ]
  },
  {
   "cell_type": "code",
   "execution_count": null,
   "metadata": {},
   "outputs": [],
   "source": [
    "# TODO"
   ]
  },
  {
   "cell_type": "markdown",
   "metadata": {},
   "source": [
    "Notice the presence of multicollinearity (high correlation between the lower and upper storey bounds). This is a trivial example as we derived both of these columns from the same original column but serves as a reminder about the importance of checking the correlations between variables before we include them in the model construction"
   ]
  },
  {
   "cell_type": "markdown",
   "metadata": {},
   "source": [
    "### 9. Create a multi-variate Linear Regression Model including the variables floor_area_sqm, upper_storey_bound and remaining_lease to determine resale_prices"
   ]
  },
  {
   "cell_type": "code",
   "execution_count": null,
   "metadata": {
    "collapsed": true
   },
   "outputs": [],
   "source": [
    "# TODO"
   ]
  },
  {
   "cell_type": "markdown",
   "metadata": {},
   "source": [
    "### 10. Let's use this model to predict the prices of new BTO flats"
   ]
  },
  {
   "cell_type": "code",
   "execution_count": null,
   "metadata": {
    "collapsed": true
   },
   "outputs": [],
   "source": [
    "new_release = pd.DataFrame({'upper_storey_bound': [12, 5], 'floor_area_sqm': [100, 120], 'remaining_lease': [5, 5]})"
   ]
  },
  {
   "cell_type": "code",
   "execution_count": null,
   "metadata": {},
   "outputs": [],
   "source": [
    "# TODO"
   ]
  },
  {
   "cell_type": "markdown",
   "metadata": {},
   "source": [
    "### 11. Intuitively, the area of the flat i.e. town should have an association with the flat_price, let's explore this association "
   ]
  },
  {
   "cell_type": "code",
   "execution_count": null,
   "metadata": {},
   "outputs": [],
   "source": [
    "# TODO"
   ]
  },
  {
   "cell_type": "markdown",
   "metadata": {},
   "source": [
    "### 12. Using pd.get_dummies, lets add Town into the model as well"
   ]
  },
  {
   "cell_type": "code",
   "execution_count": null,
   "metadata": {
    "collapsed": true
   },
   "outputs": [],
   "source": [
    "town_dummies = pd.get_dummies(hdb.town, prefix='TOWN')\n",
    "hdb_town = pd.concat([hdb, town_dummies], axis=1)\n",
    "factors = list(town_dummies.columns) + [\"upper_storey_bound\", \"floor_area_sqm\", \"remaining_lease\"]"
   ]
  },
  {
   "cell_type": "code",
   "execution_count": null,
   "metadata": {
    "collapsed": true
   },
   "outputs": [],
   "source": [
    "# TODO"
   ]
  },
  {
   "cell_type": "markdown",
   "metadata": {},
   "source": [
    "### 13. Use this updated model to predict the prices of new BTO flats"
   ]
  },
  {
   "cell_type": "code",
   "execution_count": null,
   "metadata": {
    "collapsed": true
   },
   "outputs": [],
   "source": [
    "new_release = pd.DataFrame({'upper_storey_bound': [12, 5], 'floor_area_sqm': [100, 120], 'remaining_lease': [80, 85],\n",
    "                          'town': ['ANG MO KIO', 'SENGKANG']})"
   ]
  },
  {
   "cell_type": "code",
   "execution_count": null,
   "metadata": {
    "collapsed": true
   },
   "outputs": [],
   "source": [
    "new_release_town = pd.get_dummies(new_release, prefix=\"TOWN\")\n",
    "new_release_town = new_release_town.reindex(columns = factors, fill_value=0)"
   ]
  },
  {
   "cell_type": "code",
   "execution_count": null,
   "metadata": {},
   "outputs": [],
   "source": [
    "# TODO"
   ]
  }
 ],
 "metadata": {
  "anaconda-cloud": {},
  "kernelspec": {
   "display_name": "Python [conda env:anaconda3]",
   "language": "python",
   "name": "conda-env-anaconda3-py"
  },
  "language_info": {
   "codemirror_mode": {
    "name": "ipython",
    "version": 3
   },
   "file_extension": ".py",
   "mimetype": "text/x-python",
   "name": "python",
   "nbconvert_exporter": "python",
   "pygments_lexer": "ipython3",
   "version": "3.6.3"
  }
 },
 "nbformat": 4,
 "nbformat_minor": 2
}
